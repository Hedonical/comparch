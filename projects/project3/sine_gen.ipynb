{
 "cells": [
  {
   "cell_type": "code",
   "execution_count": 3,
   "metadata": {},
   "outputs": [],
   "source": [
    "import numpy as np\n",
    "from numpy import pi\n",
    "from os.path import join as here"
   ]
  },
  {
   "cell_type": "code",
   "execution_count": 27,
   "metadata": {},
   "outputs": [],
   "source": [
    "# generate the range of x values to feed to sin\n",
    "x = np.linspace(0, pi/2, 128)\n",
    "\n",
    "y = 1 + np.sin(x)"
   ]
  },
  {
   "cell_type": "code",
   "execution_count": null,
   "metadata": {},
   "outputs": [
    {
     "data": {
      "text/plain": [
       "array([  0,   6,  12,  18,  25,  31,  37,  44,  50,  56,  63,  69,  75,\n",
       "        81,  88,  94, 100, 106, 112, 118, 125, 131, 137, 143, 149, 155,\n",
       "       161, 167, 173, 179, 185, 191, 197, 202, 208, 214, 220, 225, 231,\n",
       "       237, 242, 248, 253, 259, 264, 269, 275, 280, 285, 291, 296, 301,\n",
       "       306, 311, 316, 321, 326, 331, 335, 340, 345, 349, 354, 359, 363,\n",
       "       367, 372, 376, 380, 385, 389, 393, 397, 401, 405, 408, 412, 416,\n",
       "       419, 423, 427, 430, 433, 437, 440, 443, 446, 449, 452, 455, 458,\n",
       "       461, 463, 466, 469, 471, 473, 476, 478, 480, 482, 484, 486, 488,\n",
       "       490, 492, 493, 495, 496, 498, 499, 501, 502, 503, 504, 505, 506,\n",
       "       507, 507, 508, 509, 509, 510, 510, 510, 510, 510, 511])"
      ]
     },
     "execution_count": 25,
     "metadata": {},
     "output_type": "execute_result"
    }
   ],
   "source": [
    "# make the values a range 0 to 511 given 2^9 bits\n",
    "y = ( y * 511 * .5).astype(int)\n",
    "\n",
    "y"
   ]
  },
  {
   "cell_type": "code",
   "execution_count": 26,
   "metadata": {},
   "outputs": [],
   "source": [
    "f = open('sine2.txt', 'w')\n",
    "for v in y:\n",
    "    f.write(f'{v:09b}\\n')\n",
    "f.close()"
   ]
  }
 ],
 "metadata": {
  "kernelspec": {
   "display_name": "Python 3",
   "language": "python",
   "name": "python3"
  },
  "language_info": {
   "codemirror_mode": {
    "name": "ipython",
    "version": 3
   },
   "file_extension": ".py",
   "mimetype": "text/x-python",
   "name": "python",
   "nbconvert_exporter": "python",
   "pygments_lexer": "ipython3",
   "version": "3.12.9"
  }
 },
 "nbformat": 4,
 "nbformat_minor": 2
}
