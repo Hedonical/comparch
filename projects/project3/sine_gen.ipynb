{
 "cells": [
  {
   "cell_type": "code",
   "execution_count": 3,
   "metadata": {},
   "outputs": [],
   "source": [
    "import numpy as np\n",
    "from numpy import pi\n",
    "from os.path import join as here"
   ]
  },
  {
   "cell_type": "code",
   "execution_count": 27,
   "metadata": {},
   "outputs": [],
   "source": [
    "# generate the range of x values to feed to sin\n",
    "x = np.linspace(0, pi/2, 128)\n",
    "\n",
    "y = 1 + np.sin(x)"
   ]
  },
  {
   "cell_type": "code",
   "execution_count": 28,
   "metadata": {},
   "outputs": [
    {
     "data": {
      "text/plain": [
       "array([255, 258, 261, 264, 268, 271, 274, 277, 280, 283, 287, 290, 293,\n",
       "       296, 299, 302, 305, 308, 311, 314, 318, 321, 324, 327, 330, 333,\n",
       "       336, 339, 342, 345, 348, 351, 354, 356, 359, 362, 365, 368, 371,\n",
       "       374, 376, 379, 382, 385, 387, 390, 393, 395, 398, 401, 403, 406,\n",
       "       408, 411, 413, 416, 418, 421, 423, 425, 428, 430, 432, 435, 437,\n",
       "       439, 441, 443, 445, 448, 450, 452, 454, 456, 458, 459, 461, 463,\n",
       "       465, 467, 469, 470, 472, 474, 475, 477, 478, 480, 481, 483, 484,\n",
       "       486, 487, 488, 490, 491, 492, 493, 494, 495, 496, 497, 498, 499,\n",
       "       500, 501, 502, 503, 503, 504, 505, 506, 506, 507, 507, 508, 508,\n",
       "       509, 509, 509, 510, 510, 510, 510, 510, 510, 510, 511])"
      ]
     },
     "execution_count": 28,
     "metadata": {},
     "output_type": "execute_result"
    }
   ],
   "source": [
    "# make the values a range 0 to 511 given 2^9 bits\n",
    "y = ( y * 511 * .5).astype(int)\n",
    "\n",
    "y"
   ]
  },
  {
   "cell_type": "code",
   "execution_count": 29,
   "metadata": {},
   "outputs": [],
   "source": [
    "f = open('sine2.txt', 'w')\n",
    "for v in y:\n",
    "    f.write(f'{v:09b}\\n')\n",
    "f.close()"
   ]
  }
 ],
 "metadata": {
  "kernelspec": {
   "display_name": "Python 3",
   "language": "python",
   "name": "python3"
  },
  "language_info": {
   "codemirror_mode": {
    "name": "ipython",
    "version": 3
   },
   "file_extension": ".py",
   "mimetype": "text/x-python",
   "name": "python",
   "nbconvert_exporter": "python",
   "pygments_lexer": "ipython3",
   "version": "3.12.9"
  }
 },
 "nbformat": 4,
 "nbformat_minor": 2
}
